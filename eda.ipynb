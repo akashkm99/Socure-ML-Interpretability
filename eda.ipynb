{
 "cells": [
  {
   "cell_type": "code",
   "execution_count": 34,
   "metadata": {},
   "outputs": [],
   "source": [
    "import pandas as pd\n",
    "import matplotlib.pyplot as plt\n",
    "import numpy as np\n",
    "import sklearn"
   ]
  },
  {
   "cell_type": "code",
   "execution_count": 3,
   "metadata": {},
   "outputs": [
    {
     "data": {
      "text/plain": [
       "(442846, 51)"
      ]
     },
     "execution_count": 3,
     "metadata": {},
     "output_type": "execute_result"
    }
   ],
   "source": [
    "df = pd.read_csv(\"./dataset/competition-data/train.csv\")\n",
    "df_test = pd.read_csv(\"./dataset/competition-data/test.csv\")\n",
    "\n",
    "# df = df.append(df_test)\n",
    "df.shape"
   ]
  },
  {
   "cell_type": "code",
   "execution_count": 4,
   "metadata": {},
   "outputs": [],
   "source": [
    "norm_1 = pd.concat([df[df['model_score']>0.5]]*41)"
   ]
  },
  {
   "cell_type": "code",
   "execution_count": 5,
   "metadata": {},
   "outputs": [],
   "source": [
    "norm_0 = df[df['model_score']<0.5]"
   ]
  },
  {
   "cell_type": "code",
   "execution_count": 6,
   "metadata": {},
   "outputs": [],
   "source": [
    "# pd.concat([norm_1, norm_0])"
   ]
  },
  {
   "cell_type": "code",
   "execution_count": 7,
   "metadata": {},
   "outputs": [],
   "source": [
    "# df[:5]"
   ]
  },
  {
   "cell_type": "code",
   "execution_count": 8,
   "metadata": {},
   "outputs": [
    {
     "data": {
      "text/plain": [
       "Index(['C1', 'C2', 'C3', 'C4', 'C5', 'C6', 'C7', 'C8', 'C9', 'C10', 'V1', 'V2',\n",
       "       'V3', 'V4', 'V5', 'V6', 'V7', 'V8', 'V9', 'V10', 'V11', 'V12', 'V13',\n",
       "       'V14', 'V15', 'V16', 'V17', 'V18', 'V19', 'V20', 'V21', 'V22', 'V23',\n",
       "       'V24', 'V25', 'V26', 'V27', 'V28', 'V29', 'V30', 'V31', 'V32', 'V33',\n",
       "       'V34', 'V35', 'V36', 'V37', 'V38', 'V39', 'V40', 'model_score'],\n",
       "      dtype='object')"
      ]
     },
     "execution_count": 8,
     "metadata": {},
     "output_type": "execute_result"
    }
   ],
   "source": [
    "df.keys()"
   ]
  },
  {
   "cell_type": "code",
   "execution_count": 9,
   "metadata": {},
   "outputs": [
    {
     "name": "stdout",
     "output_type": "stream",
     "text": [
      ">=0.5\t 10500\n",
      "<0.5\t 432346\n"
     ]
    }
   ],
   "source": [
    "print (\">=0.5\\t\",(df['model_score'].values >= 0.5).sum())\n",
    "print (\"<0.5\\t\",(df['model_score'].values < 0.5).sum())"
   ]
  },
  {
   "cell_type": "code",
   "execution_count": 10,
   "metadata": {},
   "outputs": [
    {
     "data": {
      "text/plain": [
       "0.02371027400044259"
      ]
     },
     "execution_count": 10,
     "metadata": {},
     "output_type": "execute_result"
    }
   ],
   "source": [
    "10500/df.shape[0]"
   ]
  },
  {
   "cell_type": "code",
   "execution_count": 11,
   "metadata": {},
   "outputs": [],
   "source": [
    "def stats_categorical(df, k):\n",
    "    c = df[k].unique()\n",
    "    # number of elements, min, max\n",
    "    print (k, '\\t', len(c), \"\\t\", c.min(), \"\\t\", c.max())"
   ]
  },
  {
   "cell_type": "code",
   "execution_count": 12,
   "metadata": {
    "scrolled": true
   },
   "outputs": [
    {
     "data": {
      "text/plain": [
       "C1             False\n",
       "C2             False\n",
       "C3             False\n",
       "C4             False\n",
       "C5             False\n",
       "C6             False\n",
       "C7             False\n",
       "C8             False\n",
       "C9             False\n",
       "C10            False\n",
       "V1              True\n",
       "V2              True\n",
       "V3              True\n",
       "V4             False\n",
       "V5             False\n",
       "V6              True\n",
       "V7              True\n",
       "V8             False\n",
       "V9              True\n",
       "V10            False\n",
       "V11             True\n",
       "V12            False\n",
       "V13             True\n",
       "V14             True\n",
       "V15             True\n",
       "V16             True\n",
       "V17            False\n",
       "V18             True\n",
       "V19             True\n",
       "V20             True\n",
       "V21             True\n",
       "V22             True\n",
       "V23            False\n",
       "V24            False\n",
       "V25             True\n",
       "V26             True\n",
       "V27             True\n",
       "V28             True\n",
       "V29             True\n",
       "V30             True\n",
       "V31             True\n",
       "V32             True\n",
       "V33             True\n",
       "V34             True\n",
       "V35             True\n",
       "V36             True\n",
       "V37             True\n",
       "V38            False\n",
       "V39            False\n",
       "V40             True\n",
       "model_score    False\n",
       "dtype: bool"
      ]
     },
     "execution_count": 12,
     "metadata": {},
     "output_type": "execute_result"
    }
   ],
   "source": [
    "df.isna().any()"
   ]
  },
  {
   "cell_type": "code",
   "execution_count": 13,
   "metadata": {},
   "outputs": [
    {
     "name": "stdout",
     "output_type": "stream",
     "text": [
      "C1 \t 501 \t 1 \t 502\n",
      "C2 \t 264 \t 0 \t 265\n",
      "C3 \t 60 \t 0 \t 59\n",
      "C4 \t 61 \t 0 \t 60\n",
      "C5 \t 107 \t 0 \t 108\n",
      "C6 \t 11624 \t 0 \t 11624\n",
      "C7 \t 4 \t 0 \t 3\n",
      "C8 \t 3 \t 0 \t 2\n",
      "C9 \t 104 \t 0 \t 105\n",
      "C10 \t 5 \t 0 \t 4\n"
     ]
    }
   ],
   "source": [
    "for i in range(10):\n",
    "    stats_categorical(df, 'C'+str(i+1))"
   ]
  },
  {
   "cell_type": "code",
   "execution_count": 14,
   "metadata": {},
   "outputs": [],
   "source": [
    "a = []\n",
    "for i in range(10):\n",
    "    a.append(len(df['C' + str(i+1)].unique()))"
   ]
  },
  {
   "cell_type": "code",
   "execution_count": 15,
   "metadata": {},
   "outputs": [
    {
     "data": {
      "text/plain": [
       "[501, 264, 60, 61, 107, 11624, 4, 3, 104, 5]"
      ]
     },
     "execution_count": 15,
     "metadata": {},
     "output_type": "execute_result"
    }
   ],
   "source": [
    "a"
   ]
  },
  {
   "cell_type": "code",
   "execution_count": 16,
   "metadata": {
    "scrolled": true
   },
   "outputs": [
    {
     "data": {
      "image/png": "[encoded data removed]",
      "text/plain": [
       "<Figure size 432x288 with 1 Axes>"
      ]
     },
     "metadata": {
      "needs_background": "light"
     },
     "output_type": "display_data"
    },
    {
     "data": {
      "image/png": "[encoded data removed]",
      "text/plain": [
       "<Figure size 432x288 with 1 Axes>"
      ]
     },
     "metadata": {
      "needs_background": "light"
     },
     "output_type": "display_data"
    },
    {
     "data": {
      "image/png": "[encoded data removed]",
      "text/plain": [
       "<Figure size 432x288 with 1 Axes>"
      ]
     },
     "metadata": {
      "needs_background": "light"
     },
     "output_type": "display_data"
    },
    {
     "data": {
      "image/png": "[encoded data removed]",
      "text/plain": [
       "<Figure size 432x288 with 1 Axes>"
      ]
     },
     "metadata": {
      "needs_background": "light"
     },
     "output_type": "display_data"
    },
    {
     "data": {
      "image/png": "[encoded data removed]",
      "text/plain": [
       "<Figure size 432x288 with 1 Axes>"
      ]
     },
     "metadata": {
      "needs_background": "light"
     },
     "output_type": "display_data"
    },
    {
     "data": {
      "image/png": "[encoded data removed]",
      "text/plain": [
       "<Figure size 432x288 with 1 Axes>"
      ]
     },
     "metadata": {
      "needs_background": "light"
     },
     "output_type": "display_data"
    },
    {
     "data": {
      "image/png": "[encoded data removed]",
      "text/plain": [
       "<Figure size 432x288 with 1 Axes>"
      ]
     },
     "metadata": {
      "needs_background": "light"
     },
     "output_type": "display_data"
    },
    {
     "data": {
      "image/png": "[encoded data removed]",
      "text/plain": [
       "<Figure size 432x288 with 1 Axes>"
      ]
     },
     "metadata": {
      "needs_background": "light"
     },
     "output_type": "display_data"
    },
    {
     "data": {
      "image/png": "[encoded data removed]",
      "text/plain": [
       "<Figure size 432x288 with 1 Axes>"
      ]
     },
     "metadata": {
      "needs_background": "light"
     },
     "output_type": "display_data"
    },
    {
     "data": {
      "image/png": "[encoded data removed]",
      "text/plain": [
       "<Figure size 432x288 with 1 Axes>"
      ]
     },
     "metadata": {
      "needs_background": "light"
     },
     "output_type": "display_data"
    },
    {
     "data": {
      "text/plain": [
       "51"
      ]
     },
     "execution_count": 16,
     "metadata": {},
     "output_type": "execute_result"
    }
   ],
   "source": [
    "def plthist(df, k):\n",
    "    df[k].plot.hist(bins=100)\n",
    "    plt.title(k)\n",
    "    plt.show()\n",
    "for i in range(1, 11):\n",
    "    plthist(df, 'C'+str(i))\n",
    "np.array([10,5,3,2,3,20,2,2,2,2]).sum()"
   ]
  },
  {
   "cell_type": "code",
   "execution_count": 17,
   "metadata": {},
   "outputs": [
    {
     "data": {
      "text/plain": [
       "<matplotlib.axes._subplots.AxesSubplot at 0x7f348d013da0>"
      ]
     },
     "execution_count": 17,
     "metadata": {},
     "output_type": "execute_result"
    },
    {
     "data": {
      "image/png": "[encoded data removed]",
      "text/plain": [
       "<Figure size 432x288 with 1 Axes>"
      ]
     },
     "metadata": {
      "needs_background": "light"
     },
     "output_type": "display_data"
    }
   ],
   "source": [
    "df['model_score'].dropna().plot.hist(bins=1000) # Skewed AF"
   ]
  },
  {
   "cell_type": "code",
   "execution_count": 18,
   "metadata": {
    "scrolled": true
   },
   "outputs": [
    {
     "data": {
      "text/plain": [
       "0         0.003666\n",
       "1         0.006602\n",
       "2         0.006109\n",
       "3         0.002073\n",
       "4         0.001811\n",
       "5         0.004136\n",
       "6         0.243351\n",
       "7         0.002124\n",
       "8         0.007940\n",
       "9         0.000988\n",
       "10        0.004871\n",
       "11        0.006183\n",
       "12        0.005492\n",
       "13        0.017076\n",
       "14        0.000665\n",
       "15        0.003690\n",
       "16        0.012482\n",
       "17        0.007435\n",
       "18        0.006862\n",
       "19        0.003235\n",
       "20        0.000751\n",
       "21        0.004465\n",
       "22        0.002639\n",
       "23        0.004809\n",
       "24        0.006759\n",
       "25        0.010958\n",
       "26        0.001134\n",
       "27        0.046427\n",
       "28        0.004518\n",
       "29        0.014955\n",
       "            ...   \n",
       "442816    0.016752\n",
       "442817    0.182836\n",
       "442818    0.004617\n",
       "442819    0.004023\n",
       "442820    0.003398\n",
       "442821    0.007509\n",
       "442822    0.007447\n",
       "442823    0.018439\n",
       "442824    0.002565\n",
       "442825    0.036383\n",
       "442826    0.001521\n",
       "442827    0.001170\n",
       "442828    0.022470\n",
       "442829    0.003436\n",
       "442830    0.005478\n",
       "442831    0.000501\n",
       "442832    0.756148\n",
       "442833    0.003192\n",
       "442834    0.029729\n",
       "442835    0.002275\n",
       "442836    0.000893\n",
       "442837    0.135655\n",
       "442838    0.098692\n",
       "442839    0.000825\n",
       "442840    0.010629\n",
       "442841    0.005286\n",
       "442842    0.002689\n",
       "442843    0.187073\n",
       "442844    0.004560\n",
       "442845    0.018379\n",
       "Name: model_score, Length: 442846, dtype: float64"
      ]
     },
     "execution_count": 18,
     "metadata": {},
     "output_type": "execute_result"
    }
   ],
   "source": [
    "census_data = df[\"C1\"].fillna(df[\"C1\"].mode()[0])\n",
    "df['model_score']"
   ]
  },
  {
   "cell_type": "code",
   "execution_count": 51,
   "metadata": {},
   "outputs": [],
   "source": [
    "from sklearn.tree import DecisionTreeClassifier, DecisionTreeRegressor\n",
    "from sklearn.preprocessing import StandardScaler\n",
    "from sklearn.metrics import classification_report\n",
    "from sklearn.model_selection import train_test_split\n",
    "from sklearn.ensemble import RandomForestClassifier, AdaBoostClassifier, RandomForestRegressor, AdaBoostRegressor\n",
    "import copy"
   ]
  },
  {
   "cell_type": "code",
   "execution_count": 20,
   "metadata": {},
   "outputs": [],
   "source": [
    "def preprocess(df):\n",
    "    # x is pandas dataframe\n",
    "    for i in range(1,11):\n",
    "        # first 10 categorical variables\n",
    "        k=\"C\"+str(i)\n",
    "        df[k].fillna(df[k].mode()[0], inplace=True) # fill with mode\n",
    "        df[k] = df[k] - df[k].min()\n",
    "    # fill with median in case of continuous\n",
    "#     imputer = Imputer(missing_values=np.nan, strategy='median', axis=0)\n",
    "    for i in range(1,41):\n",
    "        k=\"V\"+str(i)\n",
    "        df[k] = pd.to_numeric(df[k], errors='coerce')\n",
    "        df[k].fillna(df[k].median(), inplace=True)\n",
    "    return df"
   ]
  },
  {
   "cell_type": "code",
   "execution_count": 44,
   "metadata": {},
   "outputs": [
    {
     "data": {
      "text/plain": [
       "DecisionTreeRegressor(ccp_alpha=0.0, criterion='mse', max_depth=None,\n",
       "                      max_features=None, max_leaf_nodes=None,\n",
       "                      min_impurity_decrease=0.0, min_impurity_split=None,\n",
       "                      min_samples_leaf=1, min_samples_split=2,\n",
       "                      min_weight_fraction_leaf=0.0, presort='deprecated',\n",
       "                      random_state=None, splitter='best')"
      ]
     },
     "execution_count": 44,
     "metadata": {},
     "output_type": "execute_result"
    }
   ],
   "source": [
    "df = preprocess(df)\n",
    "y = df['model_score'].values\n",
    "X = df.drop(columns='model_score').values\n",
    "\n",
    "sc = StandardScaler()\n",
    "    \n",
    "X[:, 10:] = sc.fit_transform(X[:, 10:]) # normalize numeric data\n",
    "\n",
    "X_train, X_test, Y_train, Y_test = train_test_split(X, y, test_size=0.2, random_state=1)\n",
    "# Y_train = (Y_train>0.5).astype('int')\n",
    "# Y_test = (Y_test>0.5).astype('int')\n",
    "clf = DecisionTreeRegressor() #(class_weight=\"balanced\")\n",
    "clf.fit(X_train, Y_train)"
   ]
  },
  {
   "cell_type": "code",
   "execution_count": 45,
   "metadata": {},
   "outputs": [],
   "source": [
    "prob = clf.predict(X_test)\n",
    "pred = (prob > 0.5).astype(np.int32)\n",
    "\n",
    "# print (prob)"
   ]
  },
  {
   "cell_type": "code",
   "execution_count": 46,
   "metadata": {},
   "outputs": [
    {
     "name": "stdout",
     "output_type": "stream",
     "text": [
      "              precision    recall  f1-score   support\n",
      "\n",
      "           0       0.99      0.99      0.99     86474\n",
      "           1       0.71      0.74      0.72      2096\n",
      "\n",
      "    accuracy                           0.99     88570\n",
      "   macro avg       0.85      0.87      0.86     88570\n",
      "weighted avg       0.99      0.99      0.99     88570\n",
      "\n"
     ]
    }
   ],
   "source": [
    "Y_test_new = (Y_test>0.5).astype('int')\n",
    "\n",
    "print(classification_report(Y_test_new, pred))"
   ]
  },
  {
   "cell_type": "code",
   "execution_count": 47,
   "metadata": {},
   "outputs": [
    {
     "name": "stdout",
     "output_type": "stream",
     "text": [
      "0.46171862928691987\n"
     ]
    }
   ],
   "source": [
    "bce_loss = sklearn.metrics.log_loss(Y_test_new, pred)\n",
    "print (bce_loss)"
   ]
  },
  {
   "cell_type": "code",
   "execution_count": 21,
   "metadata": {},
   "outputs": [],
   "source": [
    "clf_nobal = DecisionTreeRegressor()\n",
    "clf_nobal.fit(X_train, Y_train)\n",
    "pred = clf_nobal.predict(X_test)"
   ]
  },
  {
   "cell_type": "code",
   "execution_count": 1,
   "metadata": {},
   "outputs": [
    {
     "ename": "NameError",
     "evalue": "name 'pred' is not defined",
     "output_type": "error",
     "traceback": [
      "\u001b[0;31m---------------------------------------------------------------------------\u001b[0m",
      "\u001b[0;31mNameError\u001b[0m                                 Traceback (most recent call last)",
      "\u001b[0;32m<ipython-input-1-1ecb60586ef4>\u001b[0m in \u001b[0;36m<module>\u001b[0;34m\u001b[0m\n\u001b[0;32m----> 1\u001b[0;31m \u001b[0mprint\u001b[0m \u001b[0;34m(\u001b[0m\u001b[0mpred\u001b[0m\u001b[0;34m)\u001b[0m\u001b[0;34m\u001b[0m\u001b[0;34m\u001b[0m\u001b[0m\n\u001b[0m",
      "\u001b[0;31mNameError\u001b[0m: name 'pred' is not defined"
     ]
    }
   ],
   "source": []
  },
  {
   "cell_type": "code",
   "execution_count": 21,
   "metadata": {},
   "outputs": [
    {
     "name": "stdout",
     "output_type": "stream",
     "text": [
      "              precision    recall  f1-score   support\n",
      "\n",
      "           0       0.99      0.99      0.99     86474\n",
      "           1       0.69      0.72      0.71      2096\n",
      "\n",
      "    accuracy                           0.99     88570\n",
      "   macro avg       0.84      0.86      0.85     88570\n",
      "weighted avg       0.99      0.99      0.99     88570\n",
      "\n"
     ]
    }
   ],
   "source": [
    "print(classification_report(Y_test, pred))"
   ]
  },
  {
   "cell_type": "code",
   "execution_count": 50,
   "metadata": {},
   "outputs": [
    {
     "name": "stdout",
     "output_type": "stream",
     "text": [
      "              precision    recall  f1-score   support\n",
      "\n",
      "           0       0.99      1.00      1.00     86474\n",
      "           1       0.93      0.72      0.81      2096\n",
      "\n",
      "    accuracy                           0.99     88570\n",
      "   macro avg       0.96      0.86      0.90     88570\n",
      "weighted avg       0.99      0.99      0.99     88570\n",
      "\n",
      "0.2725831664961625\n"
     ]
    }
   ],
   "source": [
    "clf_nobal = RandomForestRegressor()\n",
    "clf_nobal.fit(X_train, Y_train)\n",
    "\n",
    "prob = clf_nobal.predict(X_test)\n",
    "pred = (prob > 0.5).astype(np.int32)\n",
    "\n",
    "\n",
    "print(classification_report(Y_test_new, pred))\n",
    "bce_loss = sklearn.metrics.log_loss(Y_test_new, pred)\n",
    "print (bce_loss)"
   ]
  },
  {
   "cell_type": "code",
   "execution_count": 52,
   "metadata": {},
   "outputs": [
    {
     "name": "stdout",
     "output_type": "stream",
     "text": [
      "              precision    recall  f1-score   support\n",
      "\n",
      "           0       0.99      1.00      0.99     86474\n",
      "           1       0.73      0.40      0.52      2096\n",
      "\n",
      "    accuracy                           0.98     88570\n",
      "   macro avg       0.86      0.70      0.76     88570\n",
      "weighted avg       0.98      0.98      0.98     88570\n",
      "\n",
      "0.6071708109302497\n"
     ]
    }
   ],
   "source": [
    "clf_nobal = AdaBoostRegressor()\n",
    "clf_nobal.fit(X_train, Y_train)\n",
    "\n",
    "prob = clf_nobal.predict(X_test)\n",
    "pred = (prob > 0.5).astype(np.int32)\n",
    "\n",
    "\n",
    "print(classification_report(Y_test_new, pred))\n",
    "bce_loss = sklearn.metrics.log_loss(Y_test_new, pred)\n",
    "print (bce_loss)"
   ]
  },
  {
   "cell_type": "code",
   "execution_count": null,
   "metadata": {},
   "outputs": [],
   "source": [
    "from sklearn.cluster import AgglomerativeClustering\n",
    "clustering = AgglomerativeClustering().fit(X_train)"
   ]
  },
  {
   "cell_type": "code",
   "execution_count": null,
   "metadata": {},
   "outputs": [],
   "source": [
    "pred = clustering.predict(X_test)\n",
    "print(classification_report(Y_test, pred))"
   ]
  },
  {
   "cell_type": "code",
   "execution_count": 6,
   "metadata": {},
   "outputs": [],
   "source": [
    "from sklearn.ensemble import IsolationForest\n",
    "clf = IsolationForest(random_state=0).fit(X_train)\n",
    "pred = clf.predict(X_test)"
   ]
  },
  {
   "cell_type": "code",
   "execution_count": 10,
   "metadata": {},
   "outputs": [
    {
     "name": "stdout",
     "output_type": "stream",
     "text": [
      "              precision    recall  f1-score   support\n",
      "\n",
      "           0       0.69      0.02      0.04     86474\n",
      "           1       0.01      0.61      0.03      2096\n",
      "\n",
      "    accuracy                           0.04     88570\n",
      "   macro avg       0.35      0.32      0.04     88570\n",
      "weighted avg       0.68      0.04      0.04     88570\n",
      "\n"
     ]
    }
   ],
   "source": [
    "print(classification_report(Y_test, (pred+1)//2))"
   ]
  },
  {
   "cell_type": "code",
   "execution_count": 13,
   "metadata": {},
   "outputs": [
    {
     "name": "stdout",
     "output_type": "stream",
     "text": [
      "              precision    recall  f1-score   support\n",
      "\n",
      "           0       0.99      1.00      0.99     86474\n",
      "           1       0.85      0.46      0.59      2096\n",
      "\n",
      "    accuracy                           0.99     88570\n",
      "   macro avg       0.92      0.73      0.79     88570\n",
      "weighted avg       0.98      0.99      0.98     88570\n",
      "\n"
     ]
    }
   ],
   "source": [
    "from sklearn.ensemble import GradientBoostingClassifier\n",
    "clf = GradientBoostingClassifier().fit(X_train, Y_train)\n",
    "pred = clf.predict(X_test)\n",
    "print(classification_report(Y_test, pred))"
   ]
  },
  {
   "cell_type": "code",
   "execution_count": 18,
   "metadata": {},
   "outputs": [
    {
     "name": "stdout",
     "output_type": "stream",
     "text": [
      "              precision    recall  f1-score   support\n",
      "\n",
      "           0       0.98      1.00      0.99     86474\n",
      "           1       0.00      0.00      0.00      2096\n",
      "\n",
      "    accuracy                           0.98     88570\n",
      "   macro avg       0.49      0.50      0.49     88570\n",
      "weighted avg       0.95      0.98      0.96     88570\n",
      "\n"
     ]
    },
    {
     "name": "stderr",
     "output_type": "stream",
     "text": [
      "/storage/home/preksha/.local/lib/python3.6/site-packages/sklearn/metrics/_classification.py:1272: UndefinedMetricWarning: Precision and F-score are ill-defined and being set to 0.0 in labels with no predicted samples. Use `zero_division` parameter to control this behavior.\n",
      "  _warn_prf(average, modifier, msg_start, len(result))\n"
     ]
    }
   ],
   "source": [
    "from sklearn.svm import SVC\n",
    "clf = SVC().fit(X_train, Y_train)\n",
    "pred = clf.predict(X_test)\n",
    "print(classification_report(Y_test, pred))"
   ]
  },
  {
   "cell_type": "code",
   "execution_count": 16,
   "metadata": {},
   "outputs": [
    {
     "name": "stdout",
     "output_type": "stream",
     "text": [
      "              precision    recall  f1-score   support\n",
      "\n",
      "           0       0.99      0.79      0.88     86474\n",
      "           1       0.07      0.68      0.13      2096\n",
      "\n",
      "    accuracy                           0.79     88570\n",
      "   macro avg       0.53      0.73      0.50     88570\n",
      "weighted avg       0.97      0.79      0.86     88570\n",
      "\n"
     ]
    }
   ],
   "source": [
    "from sklearn.mixture import GaussianMixture\n",
    "gmm = GaussianMixture(n_components=2).fit(X_train, Y_train)\n",
    "pred = gmm.predict(X_test)\n",
    "print(classification_report(Y_test, pred))"
   ]
  },
  {
   "cell_type": "code",
   "execution_count": 17,
   "metadata": {},
   "outputs": [
    {
     "name": "stderr",
     "output_type": "stream",
     "text": [
      "ERROR:root:Internal Python error in the inspect module.\n",
      "Below is the traceback from this internal error.\n",
      "\n"
     ]
    },
    {
     "name": "stdout",
     "output_type": "stream",
     "text": [
      "Traceback (most recent call last):\n",
      "  File \"/scratch/scratch4/akashkm99/anaconda/envs/attention/lib/python3.6/site-packages/IPython/core/interactiveshell.py\", line 3326, in run_code\n",
      "    exec(code_obj, self.user_global_ns, self.user_ns)\n",
      "  File \"<ipython-input-17-a1a35df6d6a4>\", line 3, in <module>\n",
      "    X_embedded = TSNE(n_components=2).fit_transform(X_test)\n",
      "  File \"/storage/home/preksha/.local/lib/python3.6/site-packages/sklearn/manifold/_t_sne.py\", line 886, in fit_transform\n",
      "    embedding = self._fit(X)\n",
      "  File \"/storage/home/preksha/.local/lib/python3.6/site-packages/sklearn/manifold/_t_sne.py\", line 798, in _fit\n",
      "    skip_num_points=skip_num_points)\n",
      "  File \"/storage/home/preksha/.local/lib/python3.6/site-packages/sklearn/manifold/_t_sne.py\", line 852, in _tsne\n",
      "    **opt_args)\n",
      "  File \"/storage/home/preksha/.local/lib/python3.6/site-packages/sklearn/manifold/_t_sne.py\", line 358, in _gradient_descent\n",
      "    error, grad = objective(p, *args, **kwargs)\n",
      "  File \"/storage/home/preksha/.local/lib/python3.6/site-packages/sklearn/manifold/_t_sne.py\", line 262, in _kl_divergence_bh\n",
      "    num_threads=num_threads)\n",
      "KeyboardInterrupt\n",
      "\n",
      "During handling of the above exception, another exception occurred:\n",
      "\n",
      "Traceback (most recent call last):\n",
      "  File \"/scratch/scratch4/akashkm99/anaconda/envs/attention/lib/python3.6/site-packages/IPython/core/interactiveshell.py\", line 2040, in showtraceback\n",
      "    stb = value._render_traceback_()\n",
      "AttributeError: 'KeyboardInterrupt' object has no attribute '_render_traceback_'\n",
      "\n",
      "During handling of the above exception, another exception occurred:\n",
      "\n",
      "Traceback (most recent call last):\n",
      "  File \"/scratch/scratch4/akashkm99/anaconda/envs/attention/lib/python3.6/site-packages/IPython/core/ultratb.py\", line 1101, in get_records\n",
      "    return _fixed_getinnerframes(etb, number_of_lines_of_context, tb_offset)\n",
      "  File \"/scratch/scratch4/akashkm99/anaconda/envs/attention/lib/python3.6/site-packages/IPython/core/ultratb.py\", line 319, in wrapped\n",
      "    return f(*args, **kwargs)\n",
      "  File \"/scratch/scratch4/akashkm99/anaconda/envs/attention/lib/python3.6/site-packages/IPython/core/ultratb.py\", line 353, in _fixed_getinnerframes\n",
      "    records = fix_frame_records_filenames(inspect.getinnerframes(etb, context))\n",
      "  File \"/scratch/scratch4/akashkm99/anaconda/envs/attention/lib/python3.6/inspect.py\", line 1490, in getinnerframes\n",
      "    frameinfo = (tb.tb_frame,) + getframeinfo(tb, context)\n",
      "  File \"/scratch/scratch4/akashkm99/anaconda/envs/attention/lib/python3.6/inspect.py\", line 1448, in getframeinfo\n",
      "    filename = getsourcefile(frame) or getfile(frame)\n",
      "  File \"/scratch/scratch4/akashkm99/anaconda/envs/attention/lib/python3.6/inspect.py\", line 693, in getsourcefile\n",
      "    if os.path.exists(filename):\n",
      "  File \"/scratch/scratch4/akashkm99/anaconda/envs/attention/lib/python3.6/genericpath.py\", line 19, in exists\n",
      "    os.stat(path)\n",
      "KeyboardInterrupt\n"
     ]
    },
    {
     "ename": "KeyboardInterrupt",
     "evalue": "",
     "output_type": "error",
     "traceback": [
      "\u001b[0;31m---------------------------------------------------------------------------\u001b[0m"
     ]
    }
   ],
   "source": [
    "# from sklearn.manifold import TSNE\n",
    "\n",
    "# X_embedded = TSNE(n_components=2).fit_transform(X_test)\n",
    "# plt.scatter(X_embedded, c=Y_test)\n",
    "# plt.show()"
   ]
  },
  {
   "cell_type": "code",
   "execution_count": null,
   "metadata": {},
   "outputs": [],
   "source": []
  }
 ],
 "metadata": {
  "kernelspec": {
   "display_name": "attention",
   "language": "python",
   "name": "attention"
  },
  "language_info": {
   "codemirror_mode": {
    "name": "ipython",
    "version": 3
   },
   "file_extension": ".py",
   "mimetype": "text/x-python",
   "name": "python",
   "nbconvert_exporter": "python",
   "pygments_lexer": "ipython3",
   "version": "3.6.9"
  }
 },
 "nbformat": 4,
 "nbformat_minor": 4
}
